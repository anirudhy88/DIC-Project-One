{
 "cells": [
  {
   "cell_type": "code",
   "execution_count": 1,
   "metadata": {
    "collapsed": true
   },
   "outputs": [],
   "source": [
    "library(datasets)"
   ]
  },
  {
   "cell_type": "markdown",
   "metadata": {},
   "source": [
    "Including the datasets package"
   ]
  },
  {
   "cell_type": "code",
   "execution_count": 2,
   "metadata": {
    "collapsed": false
   },
   "outputs": [
    {
     "data": {
      "text/html": [
       "<table>\n",
       "<thead><tr><th></th><th scope=col>mpg</th><th scope=col>cyl</th><th scope=col>disp</th><th scope=col>hp</th><th scope=col>drat</th><th scope=col>wt</th><th scope=col>qsec</th><th scope=col>vs</th><th scope=col>am</th><th scope=col>gear</th><th scope=col>carb</th></tr></thead>\n",
       "<tbody>\n",
       "\t<tr><th scope=row>Mazda RX4</th><td>21.0 </td><td>6    </td><td>160.0</td><td>110  </td><td>3.90 </td><td>2.620</td><td>16.46</td><td>0    </td><td>1    </td><td>4    </td><td>4    </td></tr>\n",
       "\t<tr><th scope=row>Mazda RX4 Wag</th><td>21.0 </td><td>6    </td><td>160.0</td><td>110  </td><td>3.90 </td><td>2.875</td><td>17.02</td><td>0    </td><td>1    </td><td>4    </td><td>4    </td></tr>\n",
       "\t<tr><th scope=row>Datsun 710</th><td>22.8 </td><td>4    </td><td>108.0</td><td> 93  </td><td>3.85 </td><td>2.320</td><td>18.61</td><td>1    </td><td>1    </td><td>4    </td><td>1    </td></tr>\n",
       "\t<tr><th scope=row>Hornet 4 Drive</th><td>21.4 </td><td>6    </td><td>258.0</td><td>110  </td><td>3.08 </td><td>3.215</td><td>19.44</td><td>1    </td><td>0    </td><td>3    </td><td>1    </td></tr>\n",
       "\t<tr><th scope=row>Hornet Sportabout</th><td>18.7 </td><td>8    </td><td>360.0</td><td>175  </td><td>3.15 </td><td>3.440</td><td>17.02</td><td>0    </td><td>0    </td><td>3    </td><td>2    </td></tr>\n",
       "\t<tr><th scope=row>Valiant</th><td>18.1 </td><td>6    </td><td>225.0</td><td>105  </td><td>2.76 </td><td>3.460</td><td>20.22</td><td>1    </td><td>0    </td><td>3    </td><td>1    </td></tr>\n",
       "\t<tr><th scope=row>Duster 360</th><td>14.3 </td><td>8    </td><td>360.0</td><td>245  </td><td>3.21 </td><td>3.570</td><td>15.84</td><td>0    </td><td>0    </td><td>3    </td><td>4    </td></tr>\n",
       "\t<tr><th scope=row>Merc 240D</th><td>24.4 </td><td>4    </td><td>146.7</td><td> 62  </td><td>3.69 </td><td>3.190</td><td>20.00</td><td>1    </td><td>0    </td><td>4    </td><td>2    </td></tr>\n",
       "\t<tr><th scope=row>Merc 230</th><td>22.8 </td><td>4    </td><td>140.8</td><td> 95  </td><td>3.92 </td><td>3.150</td><td>22.90</td><td>1    </td><td>0    </td><td>4    </td><td>2    </td></tr>\n",
       "\t<tr><th scope=row>Merc 280</th><td>19.2 </td><td>6    </td><td>167.6</td><td>123  </td><td>3.92 </td><td>3.440</td><td>18.30</td><td>1    </td><td>0    </td><td>4    </td><td>4    </td></tr>\n",
       "\t<tr><th scope=row>Merc 280C</th><td>17.8 </td><td>6    </td><td>167.6</td><td>123  </td><td>3.92 </td><td>3.440</td><td>18.90</td><td>1    </td><td>0    </td><td>4    </td><td>4    </td></tr>\n",
       "\t<tr><th scope=row>Merc 450SE</th><td>16.4 </td><td>8    </td><td>275.8</td><td>180  </td><td>3.07 </td><td>4.070</td><td>17.40</td><td>0    </td><td>0    </td><td>3    </td><td>3    </td></tr>\n",
       "\t<tr><th scope=row>Merc 450SL</th><td>17.3 </td><td>8    </td><td>275.8</td><td>180  </td><td>3.07 </td><td>3.730</td><td>17.60</td><td>0    </td><td>0    </td><td>3    </td><td>3    </td></tr>\n",
       "\t<tr><th scope=row>Merc 450SLC</th><td>15.2 </td><td>8    </td><td>275.8</td><td>180  </td><td>3.07 </td><td>3.780</td><td>18.00</td><td>0    </td><td>0    </td><td>3    </td><td>3    </td></tr>\n",
       "\t<tr><th scope=row>Cadillac Fleetwood</th><td>10.4 </td><td>8    </td><td>472.0</td><td>205  </td><td>2.93 </td><td>5.250</td><td>17.98</td><td>0    </td><td>0    </td><td>3    </td><td>4    </td></tr>\n",
       "\t<tr><th scope=row>Lincoln Continental</th><td>10.4 </td><td>8    </td><td>460.0</td><td>215  </td><td>3.00 </td><td>5.424</td><td>17.82</td><td>0    </td><td>0    </td><td>3    </td><td>4    </td></tr>\n",
       "\t<tr><th scope=row>Chrysler Imperial</th><td>14.7 </td><td>8    </td><td>440.0</td><td>230  </td><td>3.23 </td><td>5.345</td><td>17.42</td><td>0    </td><td>0    </td><td>3    </td><td>4    </td></tr>\n",
       "\t<tr><th scope=row>Fiat 128</th><td>32.4 </td><td>4    </td><td> 78.7</td><td> 66  </td><td>4.08 </td><td>2.200</td><td>19.47</td><td>1    </td><td>1    </td><td>4    </td><td>1    </td></tr>\n",
       "\t<tr><th scope=row>Honda Civic</th><td>30.4 </td><td>4    </td><td> 75.7</td><td> 52  </td><td>4.93 </td><td>1.615</td><td>18.52</td><td>1    </td><td>1    </td><td>4    </td><td>2    </td></tr>\n",
       "\t<tr><th scope=row>Toyota Corolla</th><td>33.9 </td><td>4    </td><td> 71.1</td><td> 65  </td><td>4.22 </td><td>1.835</td><td>19.90</td><td>1    </td><td>1    </td><td>4    </td><td>1    </td></tr>\n",
       "\t<tr><th scope=row>Toyota Corona</th><td>21.5 </td><td>4    </td><td>120.1</td><td> 97  </td><td>3.70 </td><td>2.465</td><td>20.01</td><td>1    </td><td>0    </td><td>3    </td><td>1    </td></tr>\n",
       "\t<tr><th scope=row>Dodge Challenger</th><td>15.5 </td><td>8    </td><td>318.0</td><td>150  </td><td>2.76 </td><td>3.520</td><td>16.87</td><td>0    </td><td>0    </td><td>3    </td><td>2    </td></tr>\n",
       "\t<tr><th scope=row>AMC Javelin</th><td>15.2 </td><td>8    </td><td>304.0</td><td>150  </td><td>3.15 </td><td>3.435</td><td>17.30</td><td>0    </td><td>0    </td><td>3    </td><td>2    </td></tr>\n",
       "\t<tr><th scope=row>Camaro Z28</th><td>13.3 </td><td>8    </td><td>350.0</td><td>245  </td><td>3.73 </td><td>3.840</td><td>15.41</td><td>0    </td><td>0    </td><td>3    </td><td>4    </td></tr>\n",
       "\t<tr><th scope=row>Pontiac Firebird</th><td>19.2 </td><td>8    </td><td>400.0</td><td>175  </td><td>3.08 </td><td>3.845</td><td>17.05</td><td>0    </td><td>0    </td><td>3    </td><td>2    </td></tr>\n",
       "\t<tr><th scope=row>Fiat X1-9</th><td>27.3 </td><td>4    </td><td> 79.0</td><td> 66  </td><td>4.08 </td><td>1.935</td><td>18.90</td><td>1    </td><td>1    </td><td>4    </td><td>1    </td></tr>\n",
       "\t<tr><th scope=row>Porsche 914-2</th><td>26.0 </td><td>4    </td><td>120.3</td><td> 91  </td><td>4.43 </td><td>2.140</td><td>16.70</td><td>0    </td><td>1    </td><td>5    </td><td>2    </td></tr>\n",
       "\t<tr><th scope=row>Lotus Europa</th><td>30.4 </td><td>4    </td><td> 95.1</td><td>113  </td><td>3.77 </td><td>1.513</td><td>16.90</td><td>1    </td><td>1    </td><td>5    </td><td>2    </td></tr>\n",
       "\t<tr><th scope=row>Ford Pantera L</th><td>15.8 </td><td>8    </td><td>351.0</td><td>264  </td><td>4.22 </td><td>3.170</td><td>14.50</td><td>0    </td><td>1    </td><td>5    </td><td>4    </td></tr>\n",
       "\t<tr><th scope=row>Ferrari Dino</th><td>19.7 </td><td>6    </td><td>145.0</td><td>175  </td><td>3.62 </td><td>2.770</td><td>15.50</td><td>0    </td><td>1    </td><td>5    </td><td>6    </td></tr>\n",
       "\t<tr><th scope=row>Maserati Bora</th><td>15.0 </td><td>8    </td><td>301.0</td><td>335  </td><td>3.54 </td><td>3.570</td><td>14.60</td><td>0    </td><td>1    </td><td>5    </td><td>8    </td></tr>\n",
       "\t<tr><th scope=row>Volvo 142E</th><td>21.4 </td><td>4    </td><td>121.0</td><td>109  </td><td>4.11 </td><td>2.780</td><td>18.60</td><td>1    </td><td>1    </td><td>4    </td><td>2    </td></tr>\n",
       "</tbody>\n",
       "</table>\n"
      ],
      "text/latex": [
       "\\begin{tabular}{r|lllllllllll}\n",
       "  & mpg & cyl & disp & hp & drat & wt & qsec & vs & am & gear & carb\\\\\n",
       "\\hline\n",
       "\tMazda RX4 & 21.0  & 6     & 160.0 & 110   & 3.90  & 2.620 & 16.46 & 0     & 1     & 4     & 4    \\\\\n",
       "\tMazda RX4 Wag & 21.0  & 6     & 160.0 & 110   & 3.90  & 2.875 & 17.02 & 0     & 1     & 4     & 4    \\\\\n",
       "\tDatsun 710 & 22.8  & 4     & 108.0 &  93   & 3.85  & 2.320 & 18.61 & 1     & 1     & 4     & 1    \\\\\n",
       "\tHornet 4 Drive & 21.4  & 6     & 258.0 & 110   & 3.08  & 3.215 & 19.44 & 1     & 0     & 3     & 1    \\\\\n",
       "\tHornet Sportabout & 18.7  & 8     & 360.0 & 175   & 3.15  & 3.440 & 17.02 & 0     & 0     & 3     & 2    \\\\\n",
       "\tValiant & 18.1  & 6     & 225.0 & 105   & 2.76  & 3.460 & 20.22 & 1     & 0     & 3     & 1    \\\\\n",
       "\tDuster 360 & 14.3  & 8     & 360.0 & 245   & 3.21  & 3.570 & 15.84 & 0     & 0     & 3     & 4    \\\\\n",
       "\tMerc 240D & 24.4  & 4     & 146.7 &  62   & 3.69  & 3.190 & 20.00 & 1     & 0     & 4     & 2    \\\\\n",
       "\tMerc 230 & 22.8  & 4     & 140.8 &  95   & 3.92  & 3.150 & 22.90 & 1     & 0     & 4     & 2    \\\\\n",
       "\tMerc 280 & 19.2  & 6     & 167.6 & 123   & 3.92  & 3.440 & 18.30 & 1     & 0     & 4     & 4    \\\\\n",
       "\tMerc 280C & 17.8  & 6     & 167.6 & 123   & 3.92  & 3.440 & 18.90 & 1     & 0     & 4     & 4    \\\\\n",
       "\tMerc 450SE & 16.4  & 8     & 275.8 & 180   & 3.07  & 4.070 & 17.40 & 0     & 0     & 3     & 3    \\\\\n",
       "\tMerc 450SL & 17.3  & 8     & 275.8 & 180   & 3.07  & 3.730 & 17.60 & 0     & 0     & 3     & 3    \\\\\n",
       "\tMerc 450SLC & 15.2  & 8     & 275.8 & 180   & 3.07  & 3.780 & 18.00 & 0     & 0     & 3     & 3    \\\\\n",
       "\tCadillac Fleetwood & 10.4  & 8     & 472.0 & 205   & 2.93  & 5.250 & 17.98 & 0     & 0     & 3     & 4    \\\\\n",
       "\tLincoln Continental & 10.4  & 8     & 460.0 & 215   & 3.00  & 5.424 & 17.82 & 0     & 0     & 3     & 4    \\\\\n",
       "\tChrysler Imperial & 14.7  & 8     & 440.0 & 230   & 3.23  & 5.345 & 17.42 & 0     & 0     & 3     & 4    \\\\\n",
       "\tFiat 128 & 32.4  & 4     &  78.7 &  66   & 4.08  & 2.200 & 19.47 & 1     & 1     & 4     & 1    \\\\\n",
       "\tHonda Civic & 30.4  & 4     &  75.7 &  52   & 4.93  & 1.615 & 18.52 & 1     & 1     & 4     & 2    \\\\\n",
       "\tToyota Corolla & 33.9  & 4     &  71.1 &  65   & 4.22  & 1.835 & 19.90 & 1     & 1     & 4     & 1    \\\\\n",
       "\tToyota Corona & 21.5  & 4     & 120.1 &  97   & 3.70  & 2.465 & 20.01 & 1     & 0     & 3     & 1    \\\\\n",
       "\tDodge Challenger & 15.5  & 8     & 318.0 & 150   & 2.76  & 3.520 & 16.87 & 0     & 0     & 3     & 2    \\\\\n",
       "\tAMC Javelin & 15.2  & 8     & 304.0 & 150   & 3.15  & 3.435 & 17.30 & 0     & 0     & 3     & 2    \\\\\n",
       "\tCamaro Z28 & 13.3  & 8     & 350.0 & 245   & 3.73  & 3.840 & 15.41 & 0     & 0     & 3     & 4    \\\\\n",
       "\tPontiac Firebird & 19.2  & 8     & 400.0 & 175   & 3.08  & 3.845 & 17.05 & 0     & 0     & 3     & 2    \\\\\n",
       "\tFiat X1-9 & 27.3  & 4     &  79.0 &  66   & 4.08  & 1.935 & 18.90 & 1     & 1     & 4     & 1    \\\\\n",
       "\tPorsche 914-2 & 26.0  & 4     & 120.3 &  91   & 4.43  & 2.140 & 16.70 & 0     & 1     & 5     & 2    \\\\\n",
       "\tLotus Europa & 30.4  & 4     &  95.1 & 113   & 3.77  & 1.513 & 16.90 & 1     & 1     & 5     & 2    \\\\\n",
       "\tFord Pantera L & 15.8  & 8     & 351.0 & 264   & 4.22  & 3.170 & 14.50 & 0     & 1     & 5     & 4    \\\\\n",
       "\tFerrari Dino & 19.7  & 6     & 145.0 & 175   & 3.62  & 2.770 & 15.50 & 0     & 1     & 5     & 6    \\\\\n",
       "\tMaserati Bora & 15.0  & 8     & 301.0 & 335   & 3.54  & 3.570 & 14.60 & 0     & 1     & 5     & 8    \\\\\n",
       "\tVolvo 142E & 21.4  & 4     & 121.0 & 109   & 4.11  & 2.780 & 18.60 & 1     & 1     & 4     & 2    \\\\\n",
       "\\end{tabular}\n"
      ],
      "text/markdown": [
       "\n",
       "| <!--/--> | mpg | cyl | disp | hp | drat | wt | qsec | vs | am | gear | carb | \n",
       "|---|---|---|---|---|---|---|---|---|---|---|---|---|---|---|---|---|---|---|---|---|---|---|---|---|---|---|---|---|---|---|---|\n",
       "| Mazda RX4 | 21.0  | 6     | 160.0 | 110   | 3.90  | 2.620 | 16.46 | 0     | 1     | 4     | 4     | \n",
       "| Mazda RX4 Wag | 21.0  | 6     | 160.0 | 110   | 3.90  | 2.875 | 17.02 | 0     | 1     | 4     | 4     | \n",
       "| Datsun 710 | 22.8  | 4     | 108.0 |  93   | 3.85  | 2.320 | 18.61 | 1     | 1     | 4     | 1     | \n",
       "| Hornet 4 Drive | 21.4  | 6     | 258.0 | 110   | 3.08  | 3.215 | 19.44 | 1     | 0     | 3     | 1     | \n",
       "| Hornet Sportabout | 18.7  | 8     | 360.0 | 175   | 3.15  | 3.440 | 17.02 | 0     | 0     | 3     | 2     | \n",
       "| Valiant | 18.1  | 6     | 225.0 | 105   | 2.76  | 3.460 | 20.22 | 1     | 0     | 3     | 1     | \n",
       "| Duster 360 | 14.3  | 8     | 360.0 | 245   | 3.21  | 3.570 | 15.84 | 0     | 0     | 3     | 4     | \n",
       "| Merc 240D | 24.4  | 4     | 146.7 |  62   | 3.69  | 3.190 | 20.00 | 1     | 0     | 4     | 2     | \n",
       "| Merc 230 | 22.8  | 4     | 140.8 |  95   | 3.92  | 3.150 | 22.90 | 1     | 0     | 4     | 2     | \n",
       "| Merc 280 | 19.2  | 6     | 167.6 | 123   | 3.92  | 3.440 | 18.30 | 1     | 0     | 4     | 4     | \n",
       "| Merc 280C | 17.8  | 6     | 167.6 | 123   | 3.92  | 3.440 | 18.90 | 1     | 0     | 4     | 4     | \n",
       "| Merc 450SE | 16.4  | 8     | 275.8 | 180   | 3.07  | 4.070 | 17.40 | 0     | 0     | 3     | 3     | \n",
       "| Merc 450SL | 17.3  | 8     | 275.8 | 180   | 3.07  | 3.730 | 17.60 | 0     | 0     | 3     | 3     | \n",
       "| Merc 450SLC | 15.2  | 8     | 275.8 | 180   | 3.07  | 3.780 | 18.00 | 0     | 0     | 3     | 3     | \n",
       "| Cadillac Fleetwood | 10.4  | 8     | 472.0 | 205   | 2.93  | 5.250 | 17.98 | 0     | 0     | 3     | 4     | \n",
       "| Lincoln Continental | 10.4  | 8     | 460.0 | 215   | 3.00  | 5.424 | 17.82 | 0     | 0     | 3     | 4     | \n",
       "| Chrysler Imperial | 14.7  | 8     | 440.0 | 230   | 3.23  | 5.345 | 17.42 | 0     | 0     | 3     | 4     | \n",
       "| Fiat 128 | 32.4  | 4     |  78.7 |  66   | 4.08  | 2.200 | 19.47 | 1     | 1     | 4     | 1     | \n",
       "| Honda Civic | 30.4  | 4     |  75.7 |  52   | 4.93  | 1.615 | 18.52 | 1     | 1     | 4     | 2     | \n",
       "| Toyota Corolla | 33.9  | 4     |  71.1 |  65   | 4.22  | 1.835 | 19.90 | 1     | 1     | 4     | 1     | \n",
       "| Toyota Corona | 21.5  | 4     | 120.1 |  97   | 3.70  | 2.465 | 20.01 | 1     | 0     | 3     | 1     | \n",
       "| Dodge Challenger | 15.5  | 8     | 318.0 | 150   | 2.76  | 3.520 | 16.87 | 0     | 0     | 3     | 2     | \n",
       "| AMC Javelin | 15.2  | 8     | 304.0 | 150   | 3.15  | 3.435 | 17.30 | 0     | 0     | 3     | 2     | \n",
       "| Camaro Z28 | 13.3  | 8     | 350.0 | 245   | 3.73  | 3.840 | 15.41 | 0     | 0     | 3     | 4     | \n",
       "| Pontiac Firebird | 19.2  | 8     | 400.0 | 175   | 3.08  | 3.845 | 17.05 | 0     | 0     | 3     | 2     | \n",
       "| Fiat X1-9 | 27.3  | 4     |  79.0 |  66   | 4.08  | 1.935 | 18.90 | 1     | 1     | 4     | 1     | \n",
       "| Porsche 914-2 | 26.0  | 4     | 120.3 |  91   | 4.43  | 2.140 | 16.70 | 0     | 1     | 5     | 2     | \n",
       "| Lotus Europa | 30.4  | 4     |  95.1 | 113   | 3.77  | 1.513 | 16.90 | 1     | 1     | 5     | 2     | \n",
       "| Ford Pantera L | 15.8  | 8     | 351.0 | 264   | 4.22  | 3.170 | 14.50 | 0     | 1     | 5     | 4     | \n",
       "| Ferrari Dino | 19.7  | 6     | 145.0 | 175   | 3.62  | 2.770 | 15.50 | 0     | 1     | 5     | 6     | \n",
       "| Maserati Bora | 15.0  | 8     | 301.0 | 335   | 3.54  | 3.570 | 14.60 | 0     | 1     | 5     | 8     | \n",
       "| Volvo 142E | 21.4  | 4     | 121.0 | 109   | 4.11  | 2.780 | 18.60 | 1     | 1     | 4     | 2     | \n",
       "\n",
       "\n"
      ],
      "text/plain": [
       "                    mpg  cyl disp  hp  drat wt    qsec  vs am gear carb\n",
       "Mazda RX4           21.0 6   160.0 110 3.90 2.620 16.46 0  1  4    4   \n",
       "Mazda RX4 Wag       21.0 6   160.0 110 3.90 2.875 17.02 0  1  4    4   \n",
       "Datsun 710          22.8 4   108.0  93 3.85 2.320 18.61 1  1  4    1   \n",
       "Hornet 4 Drive      21.4 6   258.0 110 3.08 3.215 19.44 1  0  3    1   \n",
       "Hornet Sportabout   18.7 8   360.0 175 3.15 3.440 17.02 0  0  3    2   \n",
       "Valiant             18.1 6   225.0 105 2.76 3.460 20.22 1  0  3    1   \n",
       "Duster 360          14.3 8   360.0 245 3.21 3.570 15.84 0  0  3    4   \n",
       "Merc 240D           24.4 4   146.7  62 3.69 3.190 20.00 1  0  4    2   \n",
       "Merc 230            22.8 4   140.8  95 3.92 3.150 22.90 1  0  4    2   \n",
       "Merc 280            19.2 6   167.6 123 3.92 3.440 18.30 1  0  4    4   \n",
       "Merc 280C           17.8 6   167.6 123 3.92 3.440 18.90 1  0  4    4   \n",
       "Merc 450SE          16.4 8   275.8 180 3.07 4.070 17.40 0  0  3    3   \n",
       "Merc 450SL          17.3 8   275.8 180 3.07 3.730 17.60 0  0  3    3   \n",
       "Merc 450SLC         15.2 8   275.8 180 3.07 3.780 18.00 0  0  3    3   \n",
       "Cadillac Fleetwood  10.4 8   472.0 205 2.93 5.250 17.98 0  0  3    4   \n",
       "Lincoln Continental 10.4 8   460.0 215 3.00 5.424 17.82 0  0  3    4   \n",
       "Chrysler Imperial   14.7 8   440.0 230 3.23 5.345 17.42 0  0  3    4   \n",
       "Fiat 128            32.4 4    78.7  66 4.08 2.200 19.47 1  1  4    1   \n",
       "Honda Civic         30.4 4    75.7  52 4.93 1.615 18.52 1  1  4    2   \n",
       "Toyota Corolla      33.9 4    71.1  65 4.22 1.835 19.90 1  1  4    1   \n",
       "Toyota Corona       21.5 4   120.1  97 3.70 2.465 20.01 1  0  3    1   \n",
       "Dodge Challenger    15.5 8   318.0 150 2.76 3.520 16.87 0  0  3    2   \n",
       "AMC Javelin         15.2 8   304.0 150 3.15 3.435 17.30 0  0  3    2   \n",
       "Camaro Z28          13.3 8   350.0 245 3.73 3.840 15.41 0  0  3    4   \n",
       "Pontiac Firebird    19.2 8   400.0 175 3.08 3.845 17.05 0  0  3    2   \n",
       "Fiat X1-9           27.3 4    79.0  66 4.08 1.935 18.90 1  1  4    1   \n",
       "Porsche 914-2       26.0 4   120.3  91 4.43 2.140 16.70 0  1  5    2   \n",
       "Lotus Europa        30.4 4    95.1 113 3.77 1.513 16.90 1  1  5    2   \n",
       "Ford Pantera L      15.8 8   351.0 264 4.22 3.170 14.50 0  1  5    4   \n",
       "Ferrari Dino        19.7 6   145.0 175 3.62 2.770 15.50 0  1  5    6   \n",
       "Maserati Bora       15.0 8   301.0 335 3.54 3.570 14.60 0  1  5    8   \n",
       "Volvo 142E          21.4 4   121.0 109 4.11 2.780 18.60 1  1  4    2   "
      ]
     },
     "metadata": {},
     "output_type": "display_data"
    }
   ],
   "source": [
    "mtcars"
   ]
  },
  {
   "cell_type": "code",
   "execution_count": 3,
   "metadata": {
    "collapsed": false
   },
   "outputs": [
    {
     "data": {
      "image/png": "[encoded data removed]",
      "text/plain": [
       "plot without title"
      ]
     },
     "metadata": {},
     "output_type": "display_data"
    }
   ],
   "source": [
    "plot(x=mtcars$wt, y=mtcars$mpg)"
   ]
  },
  {
   "cell_type": "markdown",
   "metadata": {},
   "source": [
    "plotting the values of 'wt' of mtcars on x-axis and 'mpg' of mtcars on y-axis"
   ]
  },
  {
   "cell_type": "markdown",
   "metadata": {},
   "source": [
    "The above code is just an example R code for a beginner"
   ]
  },
  {
   "cell_type": "code",
   "execution_count": 4,
   "metadata": {
    "collapsed": false
   },
   "outputs": [
    {
     "name": "stderr",
     "output_type": "stream",
     "text": [
      "Installing package into 'C:/Users/Anirudh/Documents/R/win-library/3.3'\n",
      "(as 'lib' is unspecified)\n"
     ]
    },
    {
     "name": "stdout",
     "output_type": "stream",
     "text": [
      "package 'twitteR' successfully unpacked and MD5 sums checked\n",
      "\n",
      "The downloaded binary packages are in\n",
      "\tC:\\Users\\Anirudh\\AppData\\Local\\Temp\\RtmpSCmKmf\\downloaded_packages\n"
     ]
    }
   ],
   "source": [
    "install.packages(\"twitteR\", repos=\"http://cran.us.r-project.org/\")"
   ]
  },
  {
   "cell_type": "code",
   "execution_count": 5,
   "metadata": {
    "collapsed": false
   },
   "outputs": [],
   "source": [
    "library(twitteR)"
   ]
  },
  {
   "cell_type": "code",
   "execution_count": 6,
   "metadata": {
    "collapsed": false
   },
   "outputs": [
    {
     "name": "stdout",
     "output_type": "stream",
     "text": [
      "[1] \"Using direct authentication\"\n"
     ]
    }
   ],
   "source": [
    "setup_twitter_oauth(\"Wfii3UtBsnvYDJEkQOunhzaFr\",\"d10oVmG6lCssm1paEjVG2DbnNvJR0gujzqBNAgl4zR7VRSjnYy\",\"771178490737496064-pNYPrBR42XIMxIOeAk2mtMDwmXZlqLY\",\"fvXbRjf8CstVhABeAcjLt5LtsSpNAImRuo8Wncr5HxBV9\")"
   ]
  },
  {
   "cell_type": "markdown",
   "metadata": {},
   "source": [
    "Setting up oAuth using keys provided by twitter application"
   ]
  },
  {
   "cell_type": "code",
   "execution_count": 7,
   "metadata": {
    "collapsed": true
   },
   "outputs": [],
   "source": [
    "tweets<-searchTwitter('trump', n= 50)"
   ]
  },
  {
   "cell_type": "code",
   "execution_count": 8,
   "metadata": {
    "collapsed": false
   },
   "outputs": [
    {
     "data": {
      "text/plain": [
       "[[1]]\n",
       "[1] \"bob_tucson: RT @bob_tucson: Is John McCain the  turning in to the new Benedict Arnold of the United States with his war against trump\"\n",
       "\n",
       "[[2]]\n",
       "[1] \"Momma_H: RT @riotwomennn: AJ Benza exposed Trump's \\\"secret\\\" Russian sex life on Stern in 2001. We see how careless Trump is. Putin has video  https:",
       "\"\n",
       "\n",
       "[[3]]\n",
       "[1] \"citybees: RT @BraddJaffy: Trump aide Stephen Miller repeats Trump's blatantly false claim about mass illegal voting. There is zero evidence. https://",
       "\"\n",
       "\n",
       "[[4]]\n",
       "[1] \"__LaFargue: RT @matthewstoller: Sure, disagree with Trump that he inherited \\\"a mess\\\" as President, but then explain why such a happy contented country",
       "\"\n",
       "\n",
       "[[5]]\n",
       "[1] \"GladysMramirezQ: Fed Up With Leaks, Trump Goes Medieval",
       " Bloodbath at State Dept. https://t.co/MvsQd2h33w https://t.co/q9AXmBwNEe\"\n",
       "\n",
       "[[6]]\n",
       "[1] \"JamesJordy: RT @Grey_Obelisk: @robreiner Comey knew about Trump's Russia connections during primary but chose to spear Hillary without good reason.  I",
       "\"\n"
      ]
     },
     "metadata": {},
     "output_type": "display_data"
    }
   ],
   "source": [
    "head(tweets)"
   ]
  },
  {
   "cell_type": "code",
   "execution_count": 9,
   "metadata": {
    "collapsed": false
   },
   "outputs": [
    {
     "data": {
      "text/plain": [
       "[[1]]\n",
       "[1] \"GladysMramirezQ: Fed Up With Leaks, Trump Goes Medieval",
       " Bloodbath at State Dept. https://t.co/MvsQd2h33w https://t.co/q9AXmBwNEe\"\n",
       "\n",
       "[[2]]\n",
       "[1] \"LoveRunandPray: @FoxNews @POTUS Americans that need their HS diploma &amp; unskilled work to be enough <ed><U+00A0><U+00BD><ed><U+00B2><U+0095> Trump.Trump <ed><U+00A0><U+00BD><ed><U+00B2><U+0095> that he can profit from anti clean energy\"\n",
       "\n",
       "[[3]]\n",
       "[1] \"Aquaice_: Trumps first month of lies - video https://t.co/SSoye52gCT\"\n",
       "\n",
       "[[4]]\n",
       "[1] \"girl_4_trump: Fed Up With Leaks, Trump Goes Medieval",
       " Bloodbath at State Dept. https://t.co/Nhrfv34dSb https://t.co/Be6rbmHzF8\"\n",
       "\n",
       "[[5]]\n",
       "[1] \"rLscribner: I wonder what percent of people from the \\\"I think you're supposed to capitalize every word on social media posts\\\" demo voted for Trump? 90%?\"\n",
       "\n",
       "[[6]]\n",
       "[1] \"_kaitlinOls_: Fed Up With Leaks, Trump Goes Medieval",
       " Bloodbath at State Dept. https://t.co/z2acwC3eyf https://t.co/zm7UeRry1Y\"\n"
      ]
     },
     "metadata": {},
     "output_type": "display_data"
    }
   ],
   "source": [
    "head(strip_retweets(tweets, strip_manual=TRUE, strip_mt=TRUE))"
   ]
  },
  {
   "cell_type": "markdown",
   "metadata": {},
   "source": [
    "Stripping retweets"
   ]
  },
  {
   "cell_type": "code",
   "execution_count": 10,
   "metadata": {
    "collapsed": false
   },
   "outputs": [],
   "source": [
    "crantastic<-getUser('crantastic')"
   ]
  },
  {
   "cell_type": "code",
   "execution_count": 11,
   "metadata": {
    "collapsed": false
   },
   "outputs": [
    {
     "data": {
      "text/html": [
       "'I like some things, and I dislike everything else.'"
      ],
      "text/latex": [
       "'I like some things, and I dislike everything else.'"
      ],
      "text/markdown": [
       "'I like some things, and I dislike everything else.'"
      ],
      "text/plain": [
       "[1] \"I like some things, and I dislike everything else.\""
      ]
     },
     "metadata": {},
     "output_type": "display_data"
    }
   ],
   "source": [
    "crantastic$getDescription()"
   ]
  },
  {
   "cell_type": "code",
   "execution_count": 12,
   "metadata": {
    "collapsed": false
   },
   "outputs": [
    {
     "data": {
      "text/html": [
       "32"
      ],
      "text/latex": [
       "32"
      ],
      "text/markdown": [
       "32"
      ],
      "text/plain": [
       "[1] 32"
      ]
     },
     "metadata": {},
     "output_type": "display_data"
    }
   ],
   "source": [
    "crantastic$getFollowersCount()"
   ]
  },
  {
   "cell_type": "markdown",
   "metadata": {},
   "source": [
    "Getting followers count of a user"
   ]
  },
  {
   "cell_type": "code",
   "execution_count": 13,
   "metadata": {
    "collapsed": false
   },
   "outputs": [
    {
     "data": {
      "text/plain": [
       "$`35985504`\n",
       "[1] \"MisElizaJane\"\n",
       "\n",
       "$`90472293`\n",
       "[1] \"emtothea\"\n",
       "\n",
       "$`30987732`\n",
       "[1] \"MelanieScrofano\"\n",
       "\n",
       "$`4709232802`\n",
       "[1] \"WynonnaEarp\"\n"
      ]
     },
     "metadata": {},
     "output_type": "display_data"
    }
   ],
   "source": [
    "crantastic$getFriends(n=5)"
   ]
  },
  {
   "cell_type": "markdown",
   "metadata": {},
   "source": [
    "Getting friends of the user."
   ]
  },
  {
   "cell_type": "code",
   "execution_count": 14,
   "metadata": {
    "collapsed": false
   },
   "outputs": [
    {
     "data": {
      "text/plain": [
       "[[1]]\n",
       "[1] \"erictcarrasco: That \\\"Black lung\\\" line was a @Chy_Leigh joke. Loved it so much we made her keep saying it. #Supergirl #SupergirlLives #Sanvers\"\n",
       "\n",
       "[[2]]\n",
       "[1] \"MelanieScrofano: I shall be INSUFFERABLE when the @WynonnaEarp comic I'm co-writing with @BeauSmithRanch comes out. \\\"The Earp Sister",
       " https://t.co/h0Q6XrE1dV\"\n",
       "\n",
       "[[3]]\n",
       "[1] \"katevoegele: just casually throwing my white gold hoops in the ring to play #GretchenWieners in this https://t.co/0l9FSGjTuD\"\n",
       "\n",
       "[[4]]\n",
       "[1] \"boglesthemind: Here we go, QSO - female writer, female director, female producer, female editor, female lead, female first ad #PersonOfInterest #toofemale\"\n",
       "\n",
       "[[5]]\n",
       "[1] \"ohnikkers: @keithkurson naw they did two shows in london and i went to both.  i made hannah fall in love with the scottish accent tho so NEXT TIME\"\n"
      ]
     },
     "metadata": {},
     "output_type": "display_data"
    }
   ],
   "source": [
    "crantastic$getFavorites(n=5)"
   ]
  },
  {
   "cell_type": "markdown",
   "metadata": {},
   "source": [
    "Getting favourites of the user."
   ]
  },
  {
   "cell_type": "code",
   "execution_count": 15,
   "metadata": {
    "collapsed": true
   },
   "outputs": [],
   "source": [
    "df<-twListToDF(tweets)"
   ]
  },
  {
   "cell_type": "markdown",
   "metadata": {},
   "source": [
    "Converting objects into data frames."
   ]
  },
  {
   "cell_type": "code",
   "execution_count": 16,
   "metadata": {
    "collapsed": false
   },
   "outputs": [
    {
     "data": {
      "text/html": [
       "<table>\n",
       "<thead><tr><th scope=col>text</th><th scope=col>favorited</th><th scope=col>favoriteCount</th><th scope=col>replyToSN</th><th scope=col>created</th><th scope=col>truncated</th><th scope=col>replyToSID</th><th scope=col>id</th><th scope=col>replyToUID</th><th scope=col>statusSource</th><th scope=col>screenName</th><th scope=col>retweetCount</th><th scope=col>isRetweet</th><th scope=col>retweeted</th><th scope=col>longitude</th><th scope=col>latitude</th></tr></thead>\n",
       "<tbody>\n",
       "\t<tr><td><span style=white-space:pre-wrap>RT @bob_tucson: Is John McCain the  turning in to the new Benedict Arnold of the United States with his war against trump                   </span></td><td>FALSE                                                                                                                                                                               </td><td>0                                                                                                                                                                                   </td><td>NA                                                                                                                                                                                  </td><td>2017-02-18 16:26:41                                                                                                                                                                 </td><td>FALSE                                                                                                                                                                               </td><td>NA                                                                                                                                                                                  </td><td>832989725468135424                                                                                                                                                                  </td><td>NA                                                                                                                                                                                  </td><td><span style=white-space:pre-wrap>&lt;a href=\"http://twitter.com/download/iphone\" rel=\"nofollow\"&gt;Twitter for iPhone&lt;/a&gt;  </span>                                            </td><td><span style=white-space:pre-wrap>bob_tucson     </span>                                                                                                                             </td><td><span style=white-space:pre-wrap>   1</span>                                                                                                                                        </td><td> TRUE                                                                                                                                                                               </td><td>FALSE                                                                                                                                                                               </td><td>NA                                                                                                                                                                                  </td><td>NA                                                                                                                                                                                  </td></tr>\n",
       "\t<tr><td><span style=white-space:pre-wrap>RT @riotwomennn: AJ Benza exposed Trump's \"secret\" Russian sex life on Stern in 2001. We see how careless Trump is. Putin has video  https:…</span></td><td>FALSE                                                                                                                                                                               </td><td>0                                                                                                                                                                                   </td><td>NA                                                                                                                                                                                  </td><td>2017-02-18 16:26:41                                                                                                                                                                 </td><td>FALSE                                                                                                                                                                               </td><td>NA                                                                                                                                                                                  </td><td>832989725422211073                                                                                                                                                                  </td><td>NA                                                                                                                                                                                  </td><td><span style=white-space:pre-wrap>&lt;a href=\"http://twitter.com/download/iphone\" rel=\"nofollow\"&gt;Twitter for iPhone&lt;/a&gt;  </span>                                            </td><td><span style=white-space:pre-wrap>Momma_H        </span>                                                                                                                             </td><td> 288                                                                                                                                                                                </td><td> TRUE                                                                                                                                                                               </td><td>FALSE                                                                                                                                                                               </td><td>NA                                                                                                                                                                                  </td><td>NA                                                                                                                                                                                  </td></tr>\n",
       "\t<tr><td>RT @BraddJaffy: Trump aide Stephen Miller repeats Trump's blatantly false claim about mass illegal voting. There is zero evidence. https://…</td><td>FALSE                                                                                                                                       </td><td>0                                                                                                                                           </td><td>NA                                                                                                                                          </td><td>2017-02-18 16:26:41                                                                                                                         </td><td>FALSE                                                                                                                                       </td><td>NA                                                                                                                                          </td><td>832989725174554624                                                                                                                          </td><td>NA                                                                                                                                          </td><td><span style=white-space:pre-wrap>&lt;a href=\"http://twitter.com\" rel=\"nofollow\"&gt;Twitter Web Client&lt;/a&gt;                  </span>    </td><td><span style=white-space:pre-wrap>citybees       </span>                                                                                     </td><td>5659                                                                                                                                        </td><td> TRUE                                                                                                                                       </td><td>FALSE                                                                                                                                       </td><td>NA                                                                                                                                          </td><td>NA                                                                                                                                          </td></tr>\n",
       "\t<tr><td>RT @matthewstoller: Sure, disagree with Trump that he inherited \"a mess\" as President, but then explain why such a happy contented country… </td><td>FALSE                                                                                                                                       </td><td>0                                                                                                                                           </td><td>NA                                                                                                                                          </td><td>2017-02-18 16:26:41                                                                                                                         </td><td>FALSE                                                                                                                                       </td><td>NA                                                                                                                                          </td><td>832989725044666368                                                                                                                          </td><td>NA                                                                                                                                          </td><td><span style=white-space:pre-wrap>&lt;a href=\"http://twitter.com/download/iphone\" rel=\"nofollow\"&gt;Twitter for iPhone&lt;/a&gt;  </span>    </td><td><span style=white-space:pre-wrap>__LaFargue     </span>                                                                                     </td><td><span style=white-space:pre-wrap>  94</span>                                                                                                </td><td> TRUE                                                                                                                                       </td><td>FALSE                                                                                                                                       </td><td>NA                                                                                                                                          </td><td>NA                                                                                                                                          </td></tr>\n",
       "\t<tr><td><span style=white-space:pre-wrap>Fed Up With Leaks, Trump Goes Medieval… “Bloodbath” at State Dept. https://t.co/MvsQd2h33w https://t.co/q9AXmBwNEe                          </span></td><td>FALSE                                                                                                                                                                               </td><td>0                                                                                                                                                                                   </td><td>NA                                                                                                                                                                                  </td><td>2017-02-18 16:26:41                                                                                                                                                                 </td><td>FALSE                                                                                                                                                                               </td><td>NA                                                                                                                                                                                  </td><td>832989725015240704                                                                                                                                                                  </td><td>NA                                                                                                                                                                                  </td><td><span style=white-space:pre-wrap>&lt;a href=\"https://dlvrit.com/\" rel=\"nofollow\"&gt;dlvr.it&lt;/a&gt;                            </span>                                            </td><td>GladysMramirezQ                                                                                                                                                                     </td><td><span style=white-space:pre-wrap>   0</span>                                                                                                                                        </td><td>FALSE                                                                                                                                                                               </td><td>FALSE                                                                                                                                                                               </td><td>NA                                                                                                                                                                                  </td><td>NA                                                                                                                                                                                  </td></tr>\n",
       "\t<tr><td><span style=white-space:pre-wrap>RT @Grey_Obelisk: @robreiner Comey knew about Trump's Russia connections during primary but chose to spear Hillary without good reason.  I… </span></td><td>FALSE                                                                                                                                                                               </td><td>0                                                                                                                                                                                   </td><td>NA                                                                                                                                                                                  </td><td>2017-02-18 16:26:41                                                                                                                                                                 </td><td>FALSE                                                                                                                                                                               </td><td>NA                                                                                                                                                                                  </td><td>832989724994322438                                                                                                                                                                  </td><td>NA                                                                                                                                                                                  </td><td>&lt;a href=\"http://twitter.com/download/android\" rel=\"nofollow\"&gt;Twitter for Android&lt;/a&gt;                                                                                    </td><td><span style=white-space:pre-wrap>JamesJordy     </span>                                                                                                                             </td><td><span style=white-space:pre-wrap>   7</span>                                                                                                                                        </td><td> TRUE                                                                                                                                                                               </td><td>FALSE                                                                                                                                                                               </td><td>NA                                                                                                                                                                                  </td><td>NA                                                                                                                                                                                  </td></tr>\n",
       "</tbody>\n",
       "</table>\n"
      ],
      "text/latex": [
       "\\begin{tabular}{r|llllllllllllllll}\n",
       " text & favorited & favoriteCount & replyToSN & created & truncated & replyToSID & id & replyToUID & statusSource & screenName & retweetCount & isRetweet & retweeted & longitude & latitude\\\\\n",
       "\\hline\n",
       "\t RT @bob\\_tucson: Is John McCain the  turning in to the new Benedict Arnold of the United States with his war against trump                    & FALSE                                                                                                                                          & 0                                                                                                                                              & NA                                                                                                                                             & 2017-02-18 16:26:41                                                                                                                            & FALSE                                                                                                                                          & NA                                                                                                                                             & 832989725468135424                                                                                                                             & NA                                                                                                                                             & <a href=\"http://twitter.com/download/iphone\" rel=\"nofollow\">Twitter for iPhone</a>                                                             & bob\\_tucson                                                                                                                                   &    1                                                                                                                                           &  TRUE                                                                                                                                          & FALSE                                                                                                                                          & NA                                                                                                                                             & NA                                                                                                                                            \\\\\n",
       "\t RT @riotwomennn: AJ Benza exposed Trump's \"secret\" Russian sex life on Stern in 2001. We see how careless Trump is. Putin has video  https:… & FALSE                                                                                                                                        & 0                                                                                                                                            & NA                                                                                                                                           & 2017-02-18 16:26:41                                                                                                                          & FALSE                                                                                                                                        & NA                                                                                                                                           & 832989725422211073                                                                                                                           & NA                                                                                                                                           & <a href=\"http://twitter.com/download/iphone\" rel=\"nofollow\">Twitter for iPhone</a>                                                           & Momma\\_H                                                                                                                                    &  288                                                                                                                                         &  TRUE                                                                                                                                        & FALSE                                                                                                                                        & NA                                                                                                                                           & NA                                                                                                                                          \\\\\n",
       "\t RT @BraddJaffy: Trump aide Stephen Miller repeats Trump's blatantly false claim about mass illegal voting. There is zero evidence. https://… & FALSE                                                                                                                                        & 0                                                                                                                                            & NA                                                                                                                                           & 2017-02-18 16:26:41                                                                                                                          & FALSE                                                                                                                                        & NA                                                                                                                                           & 832989725174554624                                                                                                                           & NA                                                                                                                                           & <a href=\"http://twitter.com\" rel=\"nofollow\">Twitter Web Client</a>                                                                           & citybees                                                                                                                                     & 5659                                                                                                                                         &  TRUE                                                                                                                                        & FALSE                                                                                                                                        & NA                                                                                                                                           & NA                                                                                                                                          \\\\\n",
       "\t RT @matthewstoller: Sure, disagree with Trump that he inherited \"a mess\" as President, but then explain why such a happy contented country…  & FALSE                                                                                                                                        & 0                                                                                                                                            & NA                                                                                                                                           & 2017-02-18 16:26:41                                                                                                                          & FALSE                                                                                                                                        & NA                                                                                                                                           & 832989725044666368                                                                                                                           & NA                                                                                                                                           & <a href=\"http://twitter.com/download/iphone\" rel=\"nofollow\">Twitter for iPhone</a>                                                           & \\_\\_LaFargue                                                                                                                               &   94                                                                                                                                         &  TRUE                                                                                                                                        & FALSE                                                                                                                                        & NA                                                                                                                                           & NA                                                                                                                                          \\\\\n",
       "\t Fed Up With Leaks, Trump Goes Medieval… “Bloodbath” at State Dept. https://t.co/MvsQd2h33w https://t.co/q9AXmBwNEe                           & FALSE                                                                                                                                        & 0                                                                                                                                            & NA                                                                                                                                           & 2017-02-18 16:26:41                                                                                                                          & FALSE                                                                                                                                        & NA                                                                                                                                           & 832989725015240704                                                                                                                           & NA                                                                                                                                           & <a href=\"https://dlvrit.com/\" rel=\"nofollow\">dlvr.it</a>                                                                                     & GladysMramirezQ                                                                                                                              &    0                                                                                                                                         & FALSE                                                                                                                                        & FALSE                                                                                                                                        & NA                                                                                                                                           & NA                                                                                                                                          \\\\\n",
       "\t RT @Grey\\_Obelisk: @robreiner Comey knew about Trump's Russia connections during primary but chose to spear Hillary without good reason.  I…  & FALSE                                                                                                                                          & 0                                                                                                                                              & NA                                                                                                                                             & 2017-02-18 16:26:41                                                                                                                            & FALSE                                                                                                                                          & NA                                                                                                                                             & 832989724994322438                                                                                                                             & NA                                                                                                                                             & <a href=\"http://twitter.com/download/android\" rel=\"nofollow\">Twitter for Android</a>                                                           & JamesJordy                                                                                                                                     &    7                                                                                                                                           &  TRUE                                                                                                                                          & FALSE                                                                                                                                          & NA                                                                                                                                             & NA                                                                                                                                            \\\\\n",
       "\\end{tabular}\n"
      ],
      "text/markdown": [
       "\n",
       "text | favorited | favoriteCount | replyToSN | created | truncated | replyToSID | id | replyToUID | statusSource | screenName | retweetCount | isRetweet | retweeted | longitude | latitude | \n",
       "|---|---|---|---|---|---|\n",
       "| RT @bob_tucson: Is John McCain the  turning in to the new Benedict Arnold of the United States with his war against trump                    | FALSE                                                                                                                                        | 0                                                                                                                                            | NA                                                                                                                                           | 2017-02-18 16:26:41                                                                                                                          | FALSE                                                                                                                                        | NA                                                                                                                                           | 832989725468135424                                                                                                                           | NA                                                                                                                                           | <a href=\"http://twitter.com/download/iphone\" rel=\"nofollow\">Twitter for iPhone</a>                                                           | bob_tucson                                                                                                                                   |    1                                                                                                                                         |  TRUE                                                                                                                                        | FALSE                                                                                                                                        | NA                                                                                                                                           | NA                                                                                                                                           | \n",
       "| RT @riotwomennn: AJ Benza exposed Trump's \"secret\" Russian sex life on Stern in 2001. We see how careless Trump is. Putin has video  https:… | FALSE                                                                                                                                        | 0                                                                                                                                            | NA                                                                                                                                           | 2017-02-18 16:26:41                                                                                                                          | FALSE                                                                                                                                        | NA                                                                                                                                           | 832989725422211073                                                                                                                           | NA                                                                                                                                           | <a href=\"http://twitter.com/download/iphone\" rel=\"nofollow\">Twitter for iPhone</a>                                                           | Momma_H                                                                                                                                      |  288                                                                                                                                         |  TRUE                                                                                                                                        | FALSE                                                                                                                                        | NA                                                                                                                                           | NA                                                                                                                                           | \n",
       "| RT @BraddJaffy: Trump aide Stephen Miller repeats Trump's blatantly false claim about mass illegal voting. There is zero evidence. https://… | FALSE                                                                                                                                        | 0                                                                                                                                            | NA                                                                                                                                           | 2017-02-18 16:26:41                                                                                                                          | FALSE                                                                                                                                        | NA                                                                                                                                           | 832989725174554624                                                                                                                           | NA                                                                                                                                           | <a href=\"http://twitter.com\" rel=\"nofollow\">Twitter Web Client</a>                                                                           | citybees                                                                                                                                     | 5659                                                                                                                                         |  TRUE                                                                                                                                        | FALSE                                                                                                                                        | NA                                                                                                                                           | NA                                                                                                                                           | \n",
       "| RT @matthewstoller: Sure, disagree with Trump that he inherited \"a mess\" as President, but then explain why such a happy contented country…  | FALSE                                                                                                                                        | 0                                                                                                                                            | NA                                                                                                                                           | 2017-02-18 16:26:41                                                                                                                          | FALSE                                                                                                                                        | NA                                                                                                                                           | 832989725044666368                                                                                                                           | NA                                                                                                                                           | <a href=\"http://twitter.com/download/iphone\" rel=\"nofollow\">Twitter for iPhone</a>                                                           | __LaFargue                                                                                                                                   |   94                                                                                                                                         |  TRUE                                                                                                                                        | FALSE                                                                                                                                        | NA                                                                                                                                           | NA                                                                                                                                           | \n",
       "| Fed Up With Leaks, Trump Goes Medieval… “Bloodbath” at State Dept. https://t.co/MvsQd2h33w https://t.co/q9AXmBwNEe                           | FALSE                                                                                                                                        | 0                                                                                                                                            | NA                                                                                                                                           | 2017-02-18 16:26:41                                                                                                                          | FALSE                                                                                                                                        | NA                                                                                                                                           | 832989725015240704                                                                                                                           | NA                                                                                                                                           | <a href=\"https://dlvrit.com/\" rel=\"nofollow\">dlvr.it</a>                                                                                     | GladysMramirezQ                                                                                                                              |    0                                                                                                                                         | FALSE                                                                                                                                        | FALSE                                                                                                                                        | NA                                                                                                                                           | NA                                                                                                                                           | \n",
       "| RT @Grey_Obelisk: @robreiner Comey knew about Trump's Russia connections during primary but chose to spear Hillary without good reason.  I…  | FALSE                                                                                                                                        | 0                                                                                                                                            | NA                                                                                                                                           | 2017-02-18 16:26:41                                                                                                                          | FALSE                                                                                                                                        | NA                                                                                                                                           | 832989724994322438                                                                                                                           | NA                                                                                                                                           | <a href=\"http://twitter.com/download/android\" rel=\"nofollow\">Twitter for Android</a>                                                         | JamesJordy                                                                                                                                   |    7                                                                                                                                         |  TRUE                                                                                                                                        | FALSE                                                                                                                                        | NA                                                                                                                                           | NA                                                                                                                                           | \n",
       "\n",
       "\n"
      ],
      "text/plain": [
       "  text                                                                                                                                        \n",
       "1 RT @bob_tucson: Is John McCain the  turning in to the new Benedict Arnold of the United States with his war against trump                   \n",
       "2 RT @riotwomennn: AJ Benza exposed Trump's \"secret\" Russian sex life on Stern in 2001. We see how careless Trump is. Putin has video  https:",
       "\n",
       "3 RT @BraddJaffy: Trump aide Stephen Miller repeats Trump's blatantly false claim about mass illegal voting. There is zero evidence. https://",
       "\n",
       "4 RT @matthewstoller: Sure, disagree with Trump that he inherited \"a mess\" as President, but then explain why such a happy contented country",
       " \n",
       "5 Fed Up With Leaks, Trump Goes Medieval",
       " Bloodbath at State Dept. https://t.co/MvsQd2h33w https://t.co/q9AXmBwNEe                          \n",
       "6 RT @Grey_Obelisk: @robreiner Comey knew about Trump's Russia connections during primary but chose to spear Hillary without good reason.  I",
       " \n",
       "  favorited favoriteCount replyToSN created             truncated replyToSID\n",
       "1 FALSE     0             NA        2017-02-18 16:26:41 FALSE     NA        \n",
       "2 FALSE     0             NA        2017-02-18 16:26:41 FALSE     NA        \n",
       "3 FALSE     0             NA        2017-02-18 16:26:41 FALSE     NA        \n",
       "4 FALSE     0             NA        2017-02-18 16:26:41 FALSE     NA        \n",
       "5 FALSE     0             NA        2017-02-18 16:26:41 FALSE     NA        \n",
       "6 FALSE     0             NA        2017-02-18 16:26:41 FALSE     NA        \n",
       "  id                 replyToUID\n",
       "1 832989725468135424 NA        \n",
       "2 832989725422211073 NA        \n",
       "3 832989725174554624 NA        \n",
       "4 832989725044666368 NA        \n",
       "5 832989725015240704 NA        \n",
       "6 832989724994322438 NA        \n",
       "  statusSource                                                                        \n",
       "1 <a href=\"http://twitter.com/download/iphone\" rel=\"nofollow\">Twitter for iPhone</a>  \n",
       "2 <a href=\"http://twitter.com/download/iphone\" rel=\"nofollow\">Twitter for iPhone</a>  \n",
       "3 <a href=\"http://twitter.com\" rel=\"nofollow\">Twitter Web Client</a>                  \n",
       "4 <a href=\"http://twitter.com/download/iphone\" rel=\"nofollow\">Twitter for iPhone</a>  \n",
       "5 <a href=\"https://dlvrit.com/\" rel=\"nofollow\">dlvr.it</a>                            \n",
       "6 <a href=\"http://twitter.com/download/android\" rel=\"nofollow\">Twitter for Android</a>\n",
       "  screenName      retweetCount isRetweet retweeted longitude latitude\n",
       "1 bob_tucson         1          TRUE     FALSE     NA        NA      \n",
       "2 Momma_H          288          TRUE     FALSE     NA        NA      \n",
       "3 citybees        5659          TRUE     FALSE     NA        NA      \n",
       "4 __LaFargue        94          TRUE     FALSE     NA        NA      \n",
       "5 GladysMramirezQ    0         FALSE     FALSE     NA        NA      \n",
       "6 JamesJordy         7          TRUE     FALSE     NA        NA      "
      ]
     },
     "metadata": {},
     "output_type": "display_data"
    }
   ],
   "source": [
    "head(df)"
   ]
  },
  {
   "cell_type": "code",
   "execution_count": 17,
   "metadata": {
    "collapsed": false
   },
   "outputs": [
    {
     "name": "stderr",
     "output_type": "stream",
     "text": [
      "Installing package into 'C:/Users/Anirudh/Documents/R/win-library/3.3'\n",
      "(as 'lib' is unspecified)\n"
     ]
    },
    {
     "name": "stdout",
     "output_type": "stream",
     "text": [
      "package 'RSQLite' successfully unpacked and MD5 sums checked\n",
      "\n",
      "The downloaded binary packages are in\n",
      "\tC:\\Users\\Anirudh\\AppData\\Local\\Temp\\RtmpSCmKmf\\downloaded_packages\n"
     ]
    }
   ],
   "source": [
    "install.packages(\"RSQLite\", repos=\"http://cran.us.r-project.org/\")"
   ]
  },
  {
   "cell_type": "code",
   "execution_count": 18,
   "metadata": {
    "collapsed": false
   },
   "outputs": [
    {
     "name": "stderr",
     "output_type": "stream",
     "text": [
      "\n",
      "Attaching package: 'dplyr'\n",
      "\n",
      "The following objects are masked from 'package:twitteR':\n",
      "\n",
      "    id, location\n",
      "\n",
      "The following objects are masked from 'package:stats':\n",
      "\n",
      "    filter, lag\n",
      "\n",
      "The following objects are masked from 'package:base':\n",
      "\n",
      "    intersect, setdiff, setequal, union\n",
      "\n"
     ]
    }
   ],
   "source": [
    "library(dplyr)"
   ]
  },
  {
   "cell_type": "code",
   "execution_count": 19,
   "metadata": {
    "collapsed": true
   },
   "outputs": [],
   "source": [
    "library(DBI)"
   ]
  },
  {
   "cell_type": "code",
   "execution_count": 20,
   "metadata": {
    "collapsed": true
   },
   "outputs": [],
   "source": [
    "sql_lite_file=tempfile()"
   ]
  },
  {
   "cell_type": "code",
   "execution_count": 21,
   "metadata": {
    "collapsed": false
   },
   "outputs": [
    {
     "name": "stderr",
     "output_type": "stream",
     "text": [
      "Loading required namespace: RSQLite\n"
     ]
    }
   ],
   "source": [
    "register_sqlite_backend(sql_lite_file)"
   ]
  },
  {
   "cell_type": "code",
   "execution_count": 22,
   "metadata": {
    "collapsed": false
   },
   "outputs": [
    {
     "data": {
      "text/html": [
       "TRUE"
      ],
      "text/latex": [
       "TRUE"
      ],
      "text/markdown": [
       "TRUE"
      ],
      "text/plain": [
       "[1] TRUE"
      ]
     },
     "metadata": {},
     "output_type": "display_data"
    }
   ],
   "source": [
    "store_tweets_db(tweets)"
   ]
  },
  {
   "cell_type": "code",
   "execution_count": 23,
   "metadata": {
    "collapsed": false
   },
   "outputs": [],
   "source": [
    "from_db=load_tweets_db()"
   ]
  },
  {
   "cell_type": "code",
   "execution_count": 24,
   "metadata": {
    "collapsed": false
   },
   "outputs": [
    {
     "data": {
      "text/plain": [
       "[[1]]\n",
       "[1] \"bob_tucson: RT @bob_tucson: Is John McCain the  turning in to the new Benedict Arnold of the United States with his war against trump\"\n",
       "\n",
       "[[2]]\n",
       "[1] \"Momma_H: RT @riotwomennn: AJ Benza exposed Trump's \\\"secret\\\" Russian sex life on Stern in 2001. We see how careless Trump is. Putin has video  https:",
       "\"\n",
       "\n",
       "[[3]]\n",
       "[1] \"citybees: RT @BraddJaffy: Trump aide Stephen Miller repeats Trump's blatantly false claim about mass illegal voting. There is zero evidence. https://",
       "\"\n",
       "\n",
       "[[4]]\n",
       "[1] \"__LaFargue: RT @matthewstoller: Sure, disagree with Trump that he inherited \\\"a mess\\\" as President, but then explain why such a happy contented country",
       "\"\n",
       "\n",
       "[[5]]\n",
       "[1] \"GladysMramirezQ: Fed Up With Leaks, Trump Goes Medieval",
       " Bloodbath at State Dept. https://t.co/MvsQd2h33w https://t.co/q9AXmBwNEe\"\n",
       "\n",
       "[[6]]\n",
       "[1] \"JamesJordy: RT @Grey_Obelisk: @robreiner Comey knew about Trump's Russia connections during primary but chose to spear Hillary without good reason.  I",
       "\"\n"
      ]
     },
     "metadata": {},
     "output_type": "display_data"
    }
   ],
   "source": [
    "head(from_db)"
   ]
  },
  {
   "cell_type": "code",
   "execution_count": 25,
   "metadata": {
    "collapsed": true
   },
   "outputs": [],
   "source": [
    "cran_tweets<-userTimeline('cranatic')"
   ]
  },
  {
   "cell_type": "code",
   "execution_count": 26,
   "metadata": {
    "collapsed": false
   },
   "outputs": [
    {
     "data": {
      "text/plain": [
       "[[1]]\n",
       "[1] \"cranatic: Update: Bchron, BoolNet, caribou, CePa, fmri, HTSCluster, isa2, lessR, lgcp, spatstat. http://t.co/skyrajMA #rstats\"\n",
       "\n",
       "[[2]]\n",
       "[1] \"cranatic: New: extrafont, extrafontdb, Rttf2pt1, x12GUI. http://t.co/skyrajMA #rstats\"\n",
       "\n",
       "[[3]]\n",
       "[1] \"cranatic: Update: drc, RcmdrPlugin.survival, rrcov, spls. http://t.co/eEoXNifB #rstats\"\n",
       "\n",
       "[[4]]\n",
       "[1] \"cranatic: New: hzar. http://t.co/eEoXNifB #rstats\"\n",
       "\n",
       "[[5]]\n",
       "[1] \"cranatic: Update: directlabels, forensim, gdata, gWidgetstcltk, gWidgetsWWW, harvestr, rrlda, Rz, Sim.DiffProc, ... http://t.co/9JEe7K91 #rstats\"\n"
      ]
     },
     "metadata": {},
     "output_type": "display_data"
    }
   ],
   "source": [
    "cran_tweets[1:5]"
   ]
  },
  {
   "cell_type": "code",
   "execution_count": 27,
   "metadata": {
    "collapsed": true
   },
   "outputs": [],
   "source": [
    "cran_tweets_large<-userTimeline('cranatic',n=100)"
   ]
  },
  {
   "cell_type": "code",
   "execution_count": 28,
   "metadata": {
    "collapsed": false
   },
   "outputs": [
    {
     "data": {
      "text/html": [
       "100"
      ],
      "text/latex": [
       "100"
      ],
      "text/markdown": [
       "100"
      ],
      "text/plain": [
       "[1] 100"
      ]
     },
     "metadata": {},
     "output_type": "display_data"
    }
   ],
   "source": [
    "length(cran_tweets_large)"
   ]
  },
  {
   "cell_type": "code",
   "execution_count": 29,
   "metadata": {
    "collapsed": true
   },
   "outputs": [],
   "source": [
    "avail_trends = availableTrendLocations()"
   ]
  },
  {
   "cell_type": "code",
   "execution_count": 30,
   "metadata": {
    "collapsed": false
   },
   "outputs": [
    {
     "data": {
      "text/html": [
       "<table>\n",
       "<thead><tr><th scope=col>name</th><th scope=col>country</th><th scope=col>woeid</th></tr></thead>\n",
       "<tbody>\n",
       "\t<tr><td>Worldwide</td><td>         </td><td>1        </td></tr>\n",
       "\t<tr><td>Winnipeg </td><td>Canada   </td><td>2972     </td></tr>\n",
       "\t<tr><td>Ottawa   </td><td>Canada   </td><td>3369     </td></tr>\n",
       "\t<tr><td>Quebec   </td><td>Canada   </td><td>3444     </td></tr>\n",
       "\t<tr><td>Montreal </td><td>Canada   </td><td>3534     </td></tr>\n",
       "\t<tr><td>Toronto  </td><td>Canada   </td><td>4118     </td></tr>\n",
       "</tbody>\n",
       "</table>\n"
      ],
      "text/latex": [
       "\\begin{tabular}{r|lll}\n",
       " name & country & woeid\\\\\n",
       "\\hline\n",
       "\t Worldwide &           & 1        \\\\\n",
       "\t Winnipeg  & Canada    & 2972     \\\\\n",
       "\t Ottawa    & Canada    & 3369     \\\\\n",
       "\t Quebec    & Canada    & 3444     \\\\\n",
       "\t Montreal  & Canada    & 3534     \\\\\n",
       "\t Toronto   & Canada    & 4118     \\\\\n",
       "\\end{tabular}\n"
      ],
      "text/markdown": [
       "\n",
       "name | country | woeid | \n",
       "|---|---|---|---|---|---|\n",
       "| Worldwide |           | 1         | \n",
       "| Winnipeg  | Canada    | 2972      | \n",
       "| Ottawa    | Canada    | 3369      | \n",
       "| Quebec    | Canada    | 3444      | \n",
       "| Montreal  | Canada    | 3534      | \n",
       "| Toronto   | Canada    | 4118      | \n",
       "\n",
       "\n"
      ],
      "text/plain": [
       "  name      country woeid\n",
       "1 Worldwide         1    \n",
       "2 Winnipeg  Canada  2972 \n",
       "3 Ottawa    Canada  3369 \n",
       "4 Quebec    Canada  3444 \n",
       "5 Montreal  Canada  3534 \n",
       "6 Toronto   Canada  4118 "
      ]
     },
     "metadata": {},
     "output_type": "display_data"
    }
   ],
   "source": [
    "head(avail_trends)"
   ]
  },
  {
   "cell_type": "code",
   "execution_count": 31,
   "metadata": {
    "collapsed": true
   },
   "outputs": [],
   "source": [
    "close_trends = closestTrendLocations(-42.8, -71.1)"
   ]
  },
  {
   "cell_type": "markdown",
   "metadata": {},
   "source": [
    "This function has been used for problem 2 of Lab1."
   ]
  },
  {
   "cell_type": "code",
   "execution_count": 32,
   "metadata": {
    "collapsed": false
   },
   "outputs": [
    {
     "data": {
      "text/html": [
       "<table>\n",
       "<thead><tr><th scope=col>name</th><th scope=col>country</th><th scope=col>woeid</th></tr></thead>\n",
       "<tbody>\n",
       "\t<tr><td>Concepcion</td><td>Chile     </td><td>349860    </td></tr>\n",
       "</tbody>\n",
       "</table>\n"
      ],
      "text/latex": [
       "\\begin{tabular}{r|lll}\n",
       " name & country & woeid\\\\\n",
       "\\hline\n",
       "\t Concepcion & Chile      & 349860    \\\\\n",
       "\\end{tabular}\n"
      ],
      "text/markdown": [
       "\n",
       "name | country | woeid | \n",
       "|---|\n",
       "| Concepcion | Chile      | 349860     | \n",
       "\n",
       "\n"
      ],
      "text/plain": [
       "  name       country woeid \n",
       "1 Concepcion Chile   349860"
      ]
     },
     "metadata": {},
     "output_type": "display_data"
    }
   ],
   "source": [
    "head(close_trends)"
   ]
  },
  {
   "cell_type": "code",
   "execution_count": 33,
   "metadata": {
    "collapsed": true
   },
   "outputs": [],
   "source": [
    "trends = getTrends(2367105)"
   ]
  },
  {
   "cell_type": "code",
   "execution_count": 34,
   "metadata": {
    "collapsed": false
   },
   "outputs": [
    {
     "data": {
      "text/html": [
       "<table>\n",
       "<thead><tr><th scope=col>name</th><th scope=col>url</th><th scope=col>query</th><th scope=col>woeid</th></tr></thead>\n",
       "<tbody>\n",
       "\t<tr><td>#AAASmtg                                 </td><td>http://twitter.com/search?q=%23AAASmtg   </td><td>%23AAASmtg                               </td><td>2367105                                  </td></tr>\n",
       "\t<tr><td>#GoCrimson                               </td><td>http://twitter.com/search?q=%23GoCrimson </td><td>%23GoCrimson                             </td><td>2367105                                  </td></tr>\n",
       "\t<tr><td>#DayofFacts                              </td><td>http://twitter.com/search?q=%23DayofFacts</td><td>%23DayofFacts                            </td><td>2367105                                  </td></tr>\n",
       "\t<tr><td>Columbia                                 </td><td>http://twitter.com/search?q=Columbia     </td><td>Columbia                                 </td><td>2367105                                  </td></tr>\n",
       "\t<tr><td>#PokemonGO                               </td><td>http://twitter.com/search?q=%23PokemonGO </td><td>%23PokemonGO                             </td><td>2367105                                  </td></tr>\n",
       "\t<tr><td>#FakeNews                                </td><td>http://twitter.com/search?q=%23FakeNews  </td><td>%23FakeNews                              </td><td>2367105                                  </td></tr>\n",
       "</tbody>\n",
       "</table>\n"
      ],
      "text/latex": [
       "\\begin{tabular}{r|llll}\n",
       " name & url & query & woeid\\\\\n",
       "\\hline\n",
       "\t \\#AAASmtg                                  & http://twitter.com/search?q=\\%23AAASmtg    & \\%23AAASmtg                                & 2367105                                    \\\\\n",
       "\t \\#GoCrimson                                & http://twitter.com/search?q=\\%23GoCrimson  & \\%23GoCrimson                              & 2367105                                    \\\\\n",
       "\t \\#DayofFacts                               & http://twitter.com/search?q=\\%23DayofFacts & \\%23DayofFacts                             & 2367105                                    \\\\\n",
       "\t Columbia                                  & http://twitter.com/search?q=Columbia      & Columbia                                  & 2367105                                  \\\\\n",
       "\t \\#PokemonGO                                & http://twitter.com/search?q=\\%23PokemonGO  & \\%23PokemonGO                              & 2367105                                    \\\\\n",
       "\t \\#FakeNews                                 & http://twitter.com/search?q=\\%23FakeNews   & \\%23FakeNews                               & 2367105                                    \\\\\n",
       "\\end{tabular}\n"
      ],
      "text/markdown": [
       "\n",
       "name | url | query | woeid | \n",
       "|---|---|---|---|---|---|\n",
       "| #AAASmtg                                  | http://twitter.com/search?q=%23AAASmtg    | %23AAASmtg                                | 2367105                                   | \n",
       "| #GoCrimson                                | http://twitter.com/search?q=%23GoCrimson  | %23GoCrimson                              | 2367105                                   | \n",
       "| #DayofFacts                               | http://twitter.com/search?q=%23DayofFacts | %23DayofFacts                             | 2367105                                   | \n",
       "| Columbia                                  | http://twitter.com/search?q=Columbia      | Columbia                                  | 2367105                                   | \n",
       "| #PokemonGO                                | http://twitter.com/search?q=%23PokemonGO  | %23PokemonGO                              | 2367105                                   | \n",
       "| #FakeNews                                 | http://twitter.com/search?q=%23FakeNews   | %23FakeNews                               | 2367105                                   | \n",
       "\n",
       "\n"
      ],
      "text/plain": [
       "  name        url                                       query         woeid  \n",
       "1 #AAASmtg    http://twitter.com/search?q=%23AAASmtg    %23AAASmtg    2367105\n",
       "2 #GoCrimson  http://twitter.com/search?q=%23GoCrimson  %23GoCrimson  2367105\n",
       "3 #DayofFacts http://twitter.com/search?q=%23DayofFacts %23DayofFacts 2367105\n",
       "4 Columbia    http://twitter.com/search?q=Columbia      Columbia      2367105\n",
       "5 #PokemonGO  http://twitter.com/search?q=%23PokemonGO  %23PokemonGO  2367105\n",
       "6 #FakeNews   http://twitter.com/search?q=%23FakeNews   %23FakeNews   2367105"
      ]
     },
     "metadata": {},
     "output_type": "display_data"
    }
   ],
   "source": [
    "head(trends)"
   ]
  },
  {
   "cell_type": "code",
   "execution_count": 35,
   "metadata": {
    "collapsed": true
   },
   "outputs": [],
   "source": [
    "r_tweets<-searchTwitter(\"trump\",n=300)"
   ]
  },
  {
   "cell_type": "code",
   "execution_count": 36,
   "metadata": {
    "collapsed": true
   },
   "outputs": [],
   "source": [
    "sources<-sapply(r_tweets, function(x) x$getStatusSource())"
   ]
  },
  {
   "cell_type": "code",
   "execution_count": 37,
   "metadata": {
    "collapsed": true
   },
   "outputs": [],
   "source": [
    "sources<-gsub(\"</a>\",\"\",sources)"
   ]
  },
  {
   "cell_type": "code",
   "execution_count": 38,
   "metadata": {
    "collapsed": true
   },
   "outputs": [],
   "source": [
    "sources<-strsplit(sources, \">\")"
   ]
  },
  {
   "cell_type": "code",
   "execution_count": 39,
   "metadata": {
    "collapsed": true
   },
   "outputs": [],
   "source": [
    "sources<-sapply(sources, function(x) ifelse(length(x) > 1, x[2], x[1]))"
   ]
  },
  {
   "cell_type": "code",
   "execution_count": 40,
   "metadata": {
    "collapsed": false
   },
   "outputs": [],
   "source": [
    "source_table = table(sources)"
   ]
  },
  {
   "cell_type": "code",
   "execution_count": 41,
   "metadata": {
    "collapsed": false
   },
   "outputs": [
    {
     "data": {
      "image/png": "[encoded data removed]",
      "text/plain": [
       "plot without title"
      ]
     },
     "metadata": {},
     "output_type": "display_data"
    }
   ],
   "source": [
    "pie(source_table[source_table > 10])"
   ]
  },
  {
   "cell_type": "markdown",
   "metadata": {},
   "source": [
    "Finally, a pie chart of the devices used by the users has been plotted as above. This tutorial actually helped me a lot in getting to know basics of R."
   ]
  }
 ],
 "metadata": {
  "kernelspec": {
   "display_name": "R",
   "language": "R",
   "name": "ir"
  },
  "language_info": {
   "codemirror_mode": "r",
   "file_extension": ".r",
   "mimetype": "text/x-r-source",
   "name": "R",
   "pygments_lexer": "r",
   "version": "3.3.2"
  }
 },
 "nbformat": 4,
 "nbformat_minor": 2
}
