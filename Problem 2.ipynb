{
 "cells": [
  {
   "cell_type": "code",
   "execution_count": 1,
   "metadata": {
    "collapsed": true
   },
   "outputs": [],
   "source": [
    "library(twitteR)"
   ]
  },
  {
   "cell_type": "markdown",
   "metadata": {},
   "source": [
    "Including the twitterR package which has been previously installed"
   ]
  },
  {
   "cell_type": "code",
   "execution_count": 2,
   "metadata": {
    "collapsed": false
   },
   "outputs": [
    {
     "name": "stdout",
     "output_type": "stream",
     "text": [
      "[1] \"Using direct authentication\"\n"
     ]
    }
   ],
   "source": [
    "setup_twitter_oauth(\"Wfii3UtBsnvYDJEkQOunhzaFr\",\"d10oVmG6lCssm1paEjVG2DbnNvJR0gujzqBNAgl4zR7VRSjnYy\",\"771178490737496064-pNYPrBR42XIMxIOeAk2mtMDwmXZlqLY\",\"fvXbRjf8CstVhABeAcjLt5LtsSpNAImRuo8Wncr5HxBV9\")"
   ]
  },
  {
   "cell_type": "markdown",
   "metadata": {},
   "source": [
    "Authentication procedure using keys provided by twitter application"
   ]
  },
  {
   "cell_type": "code",
   "execution_count": 3,
   "metadata": {
    "collapsed": true
   },
   "outputs": [],
   "source": [
    "locationInput <- \"California\""
   ]
  },
  {
   "cell_type": "code",
   "execution_count": 4,
   "metadata": {
    "collapsed": false
   },
   "outputs": [
    {
     "name": "stderr",
     "output_type": "stream",
     "text": [
      "Loading required package: ggplot2\n"
     ]
    }
   ],
   "source": [
    "library(ggmap)"
   ]
  },
  {
   "cell_type": "code",
   "execution_count": 5,
   "metadata": {
    "collapsed": false
   },
   "outputs": [
    {
     "name": "stderr",
     "output_type": "stream",
     "text": [
      "Information from URL : http://maps.googleapis.com/maps/api/geocode/json?address=California&sensor=false\n"
     ]
    }
   ],
   "source": [
    "locationGeoCode <- geocode(locationInput)"
   ]
  },
  {
   "cell_type": "markdown",
   "metadata": {},
   "source": [
    "Using geocode to get the latitude and longitude of the input location given"
   ]
  },
  {
   "cell_type": "code",
   "execution_count": 6,
   "metadata": {
    "collapsed": true
   },
   "outputs": [],
   "source": [
    "woeid <- closestTrendLocations(locationGeoCode$lat, locationGeoCode$lon)"
   ]
  },
  {
   "cell_type": "markdown",
   "metadata": {},
   "source": [
    "Getting the woeid of the closes trends based on the longitude and latitude previously collected"
   ]
  },
  {
   "cell_type": "code",
   "execution_count": 8,
   "metadata": {
    "collapsed": false
   },
   "outputs": [],
   "source": [
    "trends <- getTrends(woeid$woeid)"
   ]
  },
  {
   "cell_type": "markdown",
   "metadata": {},
   "source": [
    "Getting trends based on woeid"
   ]
  },
  {
   "cell_type": "code",
   "execution_count": 9,
   "metadata": {
    "collapsed": false
   },
   "outputs": [
    {
     "data": {
      "text/html": [
       "<table>\n",
       "<thead><tr><th scope=col>name</th><th scope=col>url</th><th scope=col>query</th><th scope=col>woeid</th></tr></thead>\n",
       "<tbody>\n",
       "\t<tr><td>#GoRhody                                    </td><td>http://twitter.com/search?q=%23GoRhody      </td><td>%23GoRhody                                  </td><td>2407517                                     </td></tr>\n",
       "\t<tr><td>Trump                                       </td><td>http://twitter.com/search?q=Trump           </td><td>Trump                                       </td><td>2407517                                     </td></tr>\n",
       "\t<tr><td>#BREAKING                                   </td><td>http://twitter.com/search?q=%23BREAKING     </td><td>%23BREAKING                                 </td><td>2407517                                     </td></tr>\n",
       "\t<tr><td>#LARain                                     </td><td>http://twitter.com/search?q=%23LARain       </td><td>%23LARain                                   </td><td>2407517                                     </td></tr>\n",
       "\t<tr><td>#Logan                                      </td><td>http://twitter.com/search?q=%23Logan        </td><td>%23Logan                                    </td><td>2407517                                     </td></tr>\n",
       "\t<tr><td>#FridayFeeling                              </td><td>http://twitter.com/search?q=%23FridayFeeling</td><td>%23FridayFeeling                            </td><td>2407517                                     </td></tr>\n",
       "</tbody>\n",
       "</table>\n"
      ],
      "text/latex": [
       "\\begin{tabular}{r|llll}\n",
       " name & url & query & woeid\\\\\n",
       "\\hline\n",
       "\t \\#GoRhody                                     & http://twitter.com/search?q=\\%23GoRhody       & \\%23GoRhody                                   & 2407517                                       \\\\\n",
       "\t Trump                                        & http://twitter.com/search?q=Trump            & Trump                                        & 2407517                                     \\\\\n",
       "\t \\#BREAKING                                    & http://twitter.com/search?q=\\%23BREAKING      & \\%23BREAKING                                  & 2407517                                       \\\\\n",
       "\t \\#LARain                                      & http://twitter.com/search?q=\\%23LARain        & \\%23LARain                                    & 2407517                                       \\\\\n",
       "\t \\#Logan                                       & http://twitter.com/search?q=\\%23Logan         & \\%23Logan                                     & 2407517                                       \\\\\n",
       "\t \\#FridayFeeling                               & http://twitter.com/search?q=\\%23FridayFeeling & \\%23FridayFeeling                             & 2407517                                       \\\\\n",
       "\\end{tabular}\n"
      ],
      "text/markdown": [
       "\n",
       "name | url | query | woeid | \n",
       "|---|---|---|---|---|---|\n",
       "| #GoRhody                                     | http://twitter.com/search?q=%23GoRhody       | %23GoRhody                                   | 2407517                                      | \n",
       "| Trump                                        | http://twitter.com/search?q=Trump            | Trump                                        | 2407517                                      | \n",
       "| #BREAKING                                    | http://twitter.com/search?q=%23BREAKING      | %23BREAKING                                  | 2407517                                      | \n",
       "| #LARain                                      | http://twitter.com/search?q=%23LARain        | %23LARain                                    | 2407517                                      | \n",
       "| #Logan                                       | http://twitter.com/search?q=%23Logan         | %23Logan                                     | 2407517                                      | \n",
       "| #FridayFeeling                               | http://twitter.com/search?q=%23FridayFeeling | %23FridayFeeling                             | 2407517                                      | \n",
       "\n",
       "\n"
      ],
      "text/plain": [
       "  name           url                                          query           \n",
       "1 #GoRhody       http://twitter.com/search?q=%23GoRhody       %23GoRhody      \n",
       "2 Trump          http://twitter.com/search?q=Trump            Trump           \n",
       "3 #BREAKING      http://twitter.com/search?q=%23BREAKING      %23BREAKING     \n",
       "4 #LARain        http://twitter.com/search?q=%23LARain        %23LARain       \n",
       "5 #Logan         http://twitter.com/search?q=%23Logan         %23Logan        \n",
       "6 #FridayFeeling http://twitter.com/search?q=%23FridayFeeling %23FridayFeeling\n",
       "  woeid  \n",
       "1 2407517\n",
       "2 2407517\n",
       "3 2407517\n",
       "4 2407517\n",
       "5 2407517\n",
       "6 2407517"
      ]
     },
     "metadata": {},
     "output_type": "display_data"
    }
   ],
   "source": [
    "head(trends)"
   ]
  },
  {
   "cell_type": "code",
   "execution_count": 32,
   "metadata": {
    "collapsed": false
   },
   "outputs": [
    {
     "name": "stdout",
     "output_type": "stream",
     "text": [
      "[1] \"#GoRhody\"\n",
      "[1] \"Trump\"\n",
      "[1] \"#BREAKING\"\n",
      "[1] \"#LARain\"\n",
      "[1] \"#Logan\"\n",
      "[1] \"#FridayFeeling\"\n",
      "[1] \"Scott Pruitt\"\n",
      "[1] \"The Animal\"\n",
      "[1] \"American People\"\n",
      "[1] \"Trent Richardson\"\n"
     ]
    }
   ],
   "source": [
    "output = \"\"\n",
    "for(i in 1:10) {\n",
    "    print(trends$name[i])\n",
    "    output = paste(output, trends$name[i], sep = ',')\n",
    "}\n",
    "output <- sub(',','',output)"
   ]
  },
  {
   "cell_type": "markdown",
   "metadata": {},
   "source": [
    "Getting \"name\" column out of the \"trends\" data and concatenating into the \"output\" string"
   ]
  },
  {
   "cell_type": "code",
   "execution_count": 33,
   "metadata": {
    "collapsed": false
   },
   "outputs": [
    {
     "data": {
      "text/html": [
       "'#GoRhody,Trump,#BREAKING,#LARain,#Logan,#FridayFeeling,Scott Pruitt,The Animal,American People,Trent Richardson'"
      ],
      "text/latex": [
       "'\\#GoRhody,Trump,\\#BREAKING,\\#LARain,\\#Logan,\\#FridayFeeling,Scott Pruitt,The Animal,American People,Trent Richardson'"
      ],
      "text/markdown": [
       "'#GoRhody,Trump,#BREAKING,#LARain,#Logan,#FridayFeeling,Scott Pruitt,The Animal,American People,Trent Richardson'"
      ],
      "text/plain": [
       "[1] \"#GoRhody,Trump,#BREAKING,#LARain,#Logan,#FridayFeeling,Scott Pruitt,The Animal,American People,Trent Richardson\""
      ]
     },
     "metadata": {},
     "output_type": "display_data"
    }
   ],
   "source": [
    "output"
   ]
  }
 ],
 "metadata": {
  "kernelspec": {
   "display_name": "R",
   "language": "R",
   "name": "ir"
  },
  "language_info": {
   "codemirror_mode": "r",
   "file_extension": ".r",
   "mimetype": "text/x-r-source",
   "name": "R",
   "pygments_lexer": "r",
   "version": "3.3.2"
  }
 },
 "nbformat": 4,
 "nbformat_minor": 2
}
